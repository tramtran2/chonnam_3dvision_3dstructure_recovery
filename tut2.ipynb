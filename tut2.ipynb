{
 "cells": [
  {
   "cell_type": "code",
   "execution_count": 3,
   "metadata": {},
   "outputs": [],
   "source": [
    "%reload_ext autoreload\n",
    "%autoreload 2"
   ]
  },
  {
   "cell_type": "code",
   "execution_count": 8,
   "metadata": {},
   "outputs": [],
   "source": [
    "import homography\n",
    "import sfm\n",
    "import sift\n",
    "from numpy import *\n",
    "from PIL import *"
   ]
  },
  {
   "cell_type": "code",
   "execution_count": 9,
   "metadata": {},
   "outputs": [],
   "source": [
    "# calibration\n",
    "K = array([[2394,0,932],[0,2398,628],[0,0,1]])"
   ]
  },
  {
   "cell_type": "code",
   "execution_count": 11,
   "metadata": {},
   "outputs": [
    {
     "name": "stdout",
     "output_type": "stream",
     "text": [
      "sift <tmp.pgm >im1.sift\n",
      "processed tmp.pgm to im1.sift\n"
     ]
    }
   ],
   "source": [
    "# load images and compute features\n",
    "im1 = array(Image.open(\"./data/alcatraz1.jpg\"))\n",
    "sift.process_image(\"./data/alcatraz1.jpg\",\"im1.sift\")\n",
    "l1,d1 = sift.read_features_from_file(\"im1.sift\")"
   ]
  },
  {
   "cell_type": "code",
   "execution_count": 12,
   "metadata": {},
   "outputs": [
    {
     "name": "stdout",
     "output_type": "stream",
     "text": [
      "sift <tmp.pgm >im2.sift\n",
      "processed tmp.pgm to im2.sift\n"
     ]
    }
   ],
   "source": [
    "im2 = array(Image.open(\"./data/alcatraz2.jpg\"))\n",
    "sift.process_image(\"./data/alcatraz2.jpg\",\"im2.sift\")\n",
    "l2,d2 = sift.read_features_from_file(\"im2.sift\")"
   ]
  },
  {
   "cell_type": "code",
   "execution_count": null,
   "metadata": {},
   "outputs": [
    {
     "name": "stdout",
     "output_type": "stream",
     "text": [
      "Matching Image1 with Image2\n"
     ]
    }
   ],
   "source": [
    "# match features\n",
    "matches = sift.match_twosided(d1,d2)\n",
    "ndx = matches.nonzero()[0]"
   ]
  },
  {
   "cell_type": "code",
   "execution_count": null,
   "metadata": {},
   "outputs": [],
   "source": [
    "# make homogeneous and normalize with inv(K)\n",
    "x1 = homography.make_homog(l1[ndx,:2].T)\n",
    "ndx2 = [int(matches[i]) for i in ndx]\n",
    "x2 = homography.make_homog(l2[ndx2,:2].T)\n",
    "x1n = dot(inv(K),x1)\n",
    "x2n = dot(inv(K),x2)"
   ]
  },
  {
   "cell_type": "code",
   "execution_count": null,
   "metadata": {},
   "outputs": [],
   "source": [
    "# estimate E with RANSAC\n",
    "model = sfm.RansacModel()\n",
    "E,inliers = sfm.F_from_ransac(x1n,x2n,model)\n",
    "# compute camera matrices (P2 will be list of four solutions)\n",
    "P1 = array([[1,0,0,0],[0,1,0,0],[0,0,1,0]])\n",
    "P2 = sfm.compute_P_from_essential(E)"
   ]
  },
  {
   "cell_type": "code",
   "execution_count": null,
   "metadata": {},
   "outputs": [],
   "source": [
    "# pick the solution with points in front of cameras\n",
    "ind = 0\n",
    "maxres = 0\n",
    "for i in range(4):\n",
    "# triangulate inliers and compute depth for each camera\n",
    "X = sfm.triangulate(x1n[:,inliers],x2n[:,inliers],P1,P2[i])\n",
    "d1 = dot(P1,X)[2]\n",
    "d2 = dot(P2[i],X)[2]\n",
    "if sum(d1>0)+sum(d2>0) > maxres:\n",
    "maxres = sum(d1>0)+sum(d2>0)\n",
    "ind = i\n",
    "infront = (d1>0) & (d2>0)\n",
    "# triangulate inliers and remove points not in front of both cameras\n",
    "X = sfm.triangulate(x1n[:,inliers],x2n[:,inliers],P1,P2[ind])\n",
    "X = X[:,infront]"
   ]
  },
  {
   "cell_type": "code",
   "execution_count": null,
   "metadata": {},
   "outputs": [],
   "source": [
    "# 3D plot\n",
    "from mpl_toolkits.mplot3d import axes3d\n",
    "fig = figure()\n",
    "ax = fig.gca(projection=’3d’)\n",
    "ax.plot(-X[0],X[1],X[2],’k.’)\n",
    "axis(’off’)"
   ]
  },
  {
   "cell_type": "code",
   "execution_count": null,
   "metadata": {},
   "outputs": [],
   "source": []
  }
 ],
 "metadata": {
  "kernelspec": {
   "display_name": "cur37",
   "language": "python",
   "name": "cur37"
  },
  "language_info": {
   "codemirror_mode": {
    "name": "ipython",
    "version": 3
   },
   "file_extension": ".py",
   "mimetype": "text/x-python",
   "name": "python",
   "nbconvert_exporter": "python",
   "pygments_lexer": "ipython3",
   "version": "3.7.5"
  }
 },
 "nbformat": 4,
 "nbformat_minor": 4
}
